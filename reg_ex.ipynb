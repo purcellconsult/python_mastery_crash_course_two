{
 "cells": [
  {
   "cell_type": "markdown",
   "metadata": {},
   "source": [
    "## Learn python by regular expressions\n"
   ]
  },
  {
   "cell_type": "markdown",
   "metadata": {},
   "source": [
    "### Example # 1"
   ]
  },
  {
   "cell_type": "code",
   "execution_count": 1,
   "metadata": {},
   "outputs": [
    {
     "data": {
      "text/plain": [
       "<re.Match object; span=(10, 13), match='lot'>"
      ]
     },
     "execution_count": 1,
     "metadata": {},
     "output_type": "execute_result"
    }
   ],
   "source": [
    "import re\n",
    " \n",
    "\n",
    "phrase = \"\"\"There's a lotta hear to learn there's a whole lotta here to learn \n",
    "and there's a whole lotta hear to learnnnnnnnnnnnn! But I yearn I gotta learn!\n",
    "\"\"\"\n",
    "regex = re.compile('lot')\n",
    "regex.search(phrase)\n"
   ]
  },
  {
   "cell_type": "markdown",
   "metadata": {},
   "source": [
    "## What's Exactly Happening\n",
    "\n",
    "- The re module is imported. The word re is short for regular expressions \n",
    "- A variable phrase is created which contains some dummy text \n",
    "- A regex pattern is created and compiled \n",
    "- The regex pattern is called on the phrase, and a match was found from indexes 10-13 on the string"
   ]
  },
  {
   "cell_type": "markdown",
   "metadata": {},
   "source": [
    "## Common regex functions in python\n",
    "\n",
    "- **search**(pattern, string, flags=0) -> scans the ENTIRE string for a match\n",
    "- **match**(pattern, string, flags=0) -> returns a match if 0 or more characters at the BEGINNING of string matches the regex\n",
    "- **fullmatch**(pattern, string, flags=0) -> returns a match if the whole string matches the regex\n",
    "- **split**(pattern, string, maxsplit=0, flags=0) -> split string by the pattern\n",
    "- **findall**(pattern, string, flags=) -> returns non overlapping matches of pattern in string"
   ]
  },
  {
   "cell_type": "markdown",
   "metadata": {},
   "source": [
    "### Example # 2"
   ]
  },
  {
   "cell_type": "code",
   "execution_count": 2,
   "metadata": {},
   "outputs": [
    {
     "name": "stdout",
     "output_type": "stream",
     "text": [
      "<re.Match object; span=(90, 95), match='azure'>\n",
      "None\n",
      "<re.Match object; span=(0, 0), match=''>\n",
      "<re.Match object; span=(0, 221), match=\"\\nHe clasps the crag with crooked hands;\\nClose t>\n",
      "['\\nHe clasps the crag with crooked hands', \"\\nClose to the sun in lonely lands,\\nRing'd with the azure world, he stands.\\n\\nThe wrinkled sea beneath him crawls\", '\\nHe watches from his mountain walls,\\nAnd like a thunderbolt he falls.\\n']\n",
      "['the', 'the', 'the']\n"
     ]
    }
   ],
   "source": [
    "the_eagle_poem = \"\"\"\n",
    "He clasps the crag with crooked hands;\n",
    "Close to the sun in lonely lands,\n",
    "Ring'd with the azure world, he stands.\n",
    "\n",
    "The wrinkled sea beneath him crawls;\n",
    "He watches from his mountain walls,\n",
    "And like a thunderbolt he falls.\n",
    "\"\"\"\n",
    "\n",
    "find_word = re.search('azure', the_eagle_poem)  # <_sre.SRE_Match object; span=(92, 97), match='azure'>\n",
    "print(find_word)\n",
    "\n",
    "print(re.match('walls', the_eagle_poem))        # None\n",
    "print(re.match('', the_eagle_poem))             # <_sre.SRE_Match object; span=(0, 0), match=''>\n",
    "print(re.fullmatch(the_eagle_poem, the_eagle_poem))  # <_sre.SRE_Match object; span=(0, 227) ...>\n",
    "print(re.split(';',\n",
    "               the_eagle_poem))                  # ['\\nHe clasps the crag with crooked hands', \"\\n\\nClose to the sun in lonely lands...]\n",
    "print(re.findall('the', the_eagle_poem))\n"
   ]
  },
  {
   "cell_type": "markdown",
   "metadata": {},
   "source": [
    "## What’s Happening Here\n",
    "\n",
    "- Notice how the match function didn’t return a match for the pattern that was actually in the string? The reason for this is because the pattern wasn’t in the beginning of the string\n",
    "- Also, the findall() function returns  list that contains all of the matches that’s being searched"
   ]
  },
  {
   "cell_type": "markdown",
   "metadata": {},
   "source": [
    "### Example # 3"
   ]
  },
  {
   "cell_type": "code",
   "execution_count": 9,
   "metadata": {},
   "outputs": [
    {
     "name": "stdout",
     "output_type": "stream",
     "text": [
      "<re.Match object; span=(7, 8), match='h'>\n",
      "None\n",
      "<re.Match object; span=(1, 2), match='B'>\n",
      "['C', 'C', 'C']\n"
     ]
    }
   ],
   "source": [
    "phrase = 'abcdefghijklmnopqrstuvwxyz'\n",
    "capital_letters = 'ABCDEFGHABCDEFGHABCDEFGH'\n",
    "print(re.search('h', phrase))  # <_sre.SRE_Match object; span=(7, 8), match='h'>\n",
    "print(re.search('b', capital_letters))  # None\n",
    "print(re.search('b', capital_letters, re.IGNORECASE))  # <_sre.SRE_Match object; span=(1, 2), match='B'>\n",
    "print(re.findall('C', capital_letters))  # ['C', 'C', 'C']"
   ]
  },
  {
   "cell_type": "markdown",
   "metadata": {},
   "source": [
    "## What’s Happening Here\n",
    "\n",
    "- Nothing new here to see except for the flag re.IGNORECASE"
   ]
  },
  {
   "cell_type": "markdown",
   "metadata": {},
   "source": [
    "### Example # 4"
   ]
  },
  {
   "cell_type": "code",
   "execution_count": 5,
   "metadata": {},
   "outputs": [
    {
     "name": "stdout",
     "output_type": "stream",
     "text": [
      "<re.Match object; span=(5, 6), match='5'>\n",
      "<re.Match object; span=(10, 11), match='a'>\n",
      "None\n",
      "<re.Match object; span=(10, 11), match='j'>\n",
      "<re.Match object; span=(17, 18), match='O'>\n",
      "<re.Match object; span=(21, 22), match='%'>\n",
      "<re.Match object; span=(19, 20), match='a'>\n"
     ]
    }
   ],
   "source": [
    "\n",
    "alpha_pattern = '0123456789abcdefgh'\n",
    "\n",
    "print(re.search('5', alpha_pattern))                    # <_sre.SRE_Match object; span=(5, 6), match='5'>\n",
    "print(re.search('a', alpha_pattern))                    # <_sre.SRE_Match object; span=(10, 11), match='a'>\n",
    "\n",
    "alpha_pattern_1 = '[0-9][a-z]'                          # any digit followed by a lowercase letter\n",
    "print(re.match(alpha_pattern_1, '0h'))                   # None\n",
    "\n",
    "print(re.search('[a-z]', '9920202022j22929'))       # <_sre.SRE_Match object; span=(10, 11), match='j'>\n",
    "print(re.search('[A-Z]', 'abcdefghijklmn83nOjsksZ'))  # <_sre.SRE_Match object; span=(17, 18), match='O'>\n",
    "print(re.search('[!@#$%^&*()-+{}[]|\\;\"<>?',\n",
    "                'zvgsggs272292hkOwuyeg%ss'))  # <_sre.SRE_Match object; span=(21, 22), match='%'>\n",
    "print(re.search('[a-zA-Z]', '22838828289020932;/asksk'))  # <_sre.SRE_Match object; span=(19, 20), match='a'>\n"
   ]
  },
  {
   "cell_type": "markdown",
   "metadata": {},
   "source": [
    "## What’s Happening Here\n",
    "\n",
    "- We were introduced to the character class for digits and lowercase letters: [0-9][a-z]"
   ]
  },
  {
   "cell_type": "markdown",
   "metadata": {},
   "source": [
    "### Example # 5"
   ]
  },
  {
   "cell_type": "code",
   "execution_count": 7,
   "metadata": {},
   "outputs": [
    {
     "name": "stdout",
     "output_type": "stream",
     "text": [
      "<re.Match object; span=(21, 32), match='abracadabra'>\n",
      "<re.Match object; span=(4, 9), match='abcde'>\n",
      "<re.Match object; span=(0, 4), match='c999'>\n",
      "<re.Match object; span=(0, 4), match='d175'>\n",
      "\n"
     ]
    }
   ],
   "source": [
    "\n",
    "print(re.search('[a-z]{11}',\n",
    "                '2517abcd17171179Abs20abracadabra2298'))  # <_sre.SRE_Match object; span=(21, 32), match='abracadabra'>\n",
    "print(re.search('[a-z]{1,5}', '2517abcde17171179'))       # <_sre.SRE_Match object; span=(4, 9), match='abcde'>\n",
    "print(re.search('[a-z]{1,5}[0-9]{3}', 'c999'))  # <_sre.SRE_Match object; span=(0, 4), match='c999'>\n",
    "print(re.search('[a-z]{1,5}[0-9]{3}', 'd17'))  # None. Why?\n",
    "print()\n"
   ]
  },
  {
   "cell_type": "markdown",
   "metadata": {},
   "source": [
    "## What’s Happening Here\n",
    "\n",
    "- We can control the occurrence of how many times we want a character to repeat by using the curly braces {}\n"
   ]
  },
  {
   "cell_type": "markdown",
   "metadata": {},
   "source": [
    "### Common Regex Character Classes\n",
    "\n",
    "- \\d -> any digit\n",
    "- \\D -> any non digit\n",
    "- \\w -> any word\n",
    "- \\W -> any non alphanumeric character\n"
   ]
  },
  {
   "cell_type": "markdown",
   "metadata": {},
   "source": [
    "# Example # 6"
   ]
  },
  {
   "cell_type": "code",
   "execution_count": 24,
   "metadata": {},
   "outputs": [
    {
     "name": "stdout",
     "output_type": "stream",
     "text": [
      "<re.Match object; span=(6, 7), match='2'>\n",
      "<re.Match object; span=(8, 10), match='34'>\n",
      "<re.Match object; span=(0, 12), match='230-392-9327'>\n",
      "<re.Match object; span=(9, 10), match='2'>\n",
      "<re.Match object; span=(0, 3), match='9d1'>\n"
     ]
    }
   ],
   "source": [
    "print(re.search('\\d', 'jsjjsk273829BHAja'))  # <_sre.SRE_Match object; span=(1, 2), match='2'>\n",
    "print(re.search('\\d\\d', '2j8k2c8c34m3ma1'))  # <_sre.SRE_Match object; span=(8, 10), match='34'>\n",
    "print(re.search('\\d{3}-\\d{3}-\\d{4}', '230-392-9327'))  # <_sre.SRE_Match object; span=(0, 12), match='230-392-9327'>\n",
    "\n",
    "# matches any alphanumeric character and the underscore\n",
    "print(re.search('\\w', ';\\';,.,.,.283jsns9'))  # <_sre.SRE_Match object; span=(9, 10), match='2'>\n",
    "print(re.search('\\w\\w\\w', '9d1'))  # <_sre.SRE_Match object; span=(0, 3), match='9d1'>"
   ]
  },
  {
   "cell_type": "markdown",
   "metadata": {},
   "source": [
    "## What’s Happening Here\n",
    "\n",
    "- We introduced a new character class which is \\w for alphanumeric \n"
   ]
  },
  {
   "cell_type": "markdown",
   "metadata": {},
   "source": [
    "# Common Regex Symbols\n",
    "\n",
    "|-  | 0 or more repetitions \n",
    "|--|--|\n",
    "| + | 1 or more repetitions \n",
    "| ?  | 0 or 1 repetitions of the proceeding  |\n",
    "| .  | matches any character except for a newline\n",
    "| $  | matches the end of the string, or just before the newline\n",
    "| ^   | matches the start of the string"
   ]
  },
  {
   "cell_type": "code",
   "execution_count": 30,
   "metadata": {},
   "outputs": [
    {
     "name": "stdout",
     "output_type": "stream",
     "text": [
      "<re.Match object; span=(0, 8), match='28392202'>\n",
      "<re.Match object; span=(0, 8), match='abaaaaaa'>\n",
      "<re.Match object; span=(0, 2), match='ab'>\n",
      "None\n",
      "<re.Match object; span=(0, 3), match='/,@'>\n",
      "<re.Match object; span=(0, 3), match='278'>\n"
     ]
    }
   ],
   "source": [
    "print(re.search('\\d*', '28392202'))  # <_sre.SRE_Match object; span=(0, 8), match='28392202'>\n",
    "\n",
    "# the + operator matches 1 or more repetitions\n",
    "print(re.search('aba+', 'abaaaaaa'))  # <_sre.SRE_Match object; span=(0, 8), match='abaaaaaa'>\n",
    "\n",
    "# the ? causes the regex to match 0 or 1 repetitions of the preceding\n",
    "print(re.search('abc?', 'ab'))  # ab validates\n",
    "print(re.search('abc?', 'abc')) # abc validates. what about ac or bc?\n",
    "\n",
    "# the . matches any character\n",
    "print(re.search('.{3}', '/,@'))  # <_sre.SRE_Match object; span=(0, 3), match='/,@'>\n",
    "\n",
    "# $ matches just before the end of newline\n",
    "print(re.search('^\\d\\d\\d$', '278'))  # <_sre.SRE_Match object; span=(0, 3), match='278'>\n"
   ]
  },
  {
   "cell_type": "code",
   "execution_count": null,
   "metadata": {},
   "outputs": [],
   "source": [
    "# Regex Lab\n"
   ]
  }
 ],
 "metadata": {
  "kernelspec": {
   "display_name": "Python 3",
   "language": "python",
   "name": "python3"
  },
  "language_info": {
   "codemirror_mode": {
    "name": "ipython",
    "version": 3
   },
   "file_extension": ".py",
   "mimetype": "text/x-python",
   "name": "python",
   "nbconvert_exporter": "python",
   "pygments_lexer": "ipython3",
   "version": "3.7.3"
  }
 },
 "nbformat": 4,
 "nbformat_minor": 2
}
